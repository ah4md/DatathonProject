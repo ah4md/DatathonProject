{
 "cells": [
  {
   "cell_type": "code",
   "execution_count": 8,
   "id": "99c44502",
   "metadata": {},
   "outputs": [
    {
     "name": "stdout",
     "output_type": "stream",
     "text": [
      "Requirement already satisfied: plotly in c:\\users\\theah\\appdata\\local\\programs\\python\\python313\\lib\\site-packages (6.3.0)\n",
      "Requirement already satisfied: kaleido in c:\\users\\theah\\appdata\\local\\programs\\python\\python313\\lib\\site-packages (1.1.0)\n",
      "Requirement already satisfied: pandas in c:\\users\\theah\\appdata\\local\\programs\\python\\python313\\lib\\site-packages (2.2.3)\n",
      "Requirement already satisfied: numpy in c:\\users\\theah\\appdata\\local\\programs\\python\\python313\\lib\\site-packages (2.2.3)\n",
      "Requirement already satisfied: narwhals>=1.15.1 in c:\\users\\theah\\appdata\\local\\programs\\python\\python313\\lib\\site-packages (from plotly) (2.6.0)\n",
      "Requirement already satisfied: packaging in c:\\users\\theah\\appdata\\roaming\\python\\python313\\site-packages (from plotly) (24.2)\n",
      "Requirement already satisfied: choreographer>=1.0.10 in c:\\users\\theah\\appdata\\local\\programs\\python\\python313\\lib\\site-packages (from kaleido) (1.1.1)\n",
      "Requirement already satisfied: logistro>=1.0.8 in c:\\users\\theah\\appdata\\local\\programs\\python\\python313\\lib\\site-packages (from kaleido) (1.1.0)\n",
      "Requirement already satisfied: orjson>=3.10.15 in c:\\users\\theah\\appdata\\local\\programs\\python\\python313\\lib\\site-packages (from kaleido) (3.11.3)\n",
      "Requirement already satisfied: pytest-timeout>=2.4.0 in c:\\users\\theah\\appdata\\local\\programs\\python\\python313\\lib\\site-packages (from kaleido) (2.4.0)\n",
      "Requirement already satisfied: python-dateutil>=2.8.2 in c:\\users\\theah\\appdata\\roaming\\python\\python313\\site-packages (from pandas) (2.9.0.post0)\n",
      "Requirement already satisfied: pytz>=2020.1 in c:\\users\\theah\\appdata\\local\\programs\\python\\python313\\lib\\site-packages (from pandas) (2025.1)\n",
      "Requirement already satisfied: tzdata>=2022.7 in c:\\users\\theah\\appdata\\local\\programs\\python\\python313\\lib\\site-packages (from pandas) (2025.1)\n",
      "Requirement already satisfied: simplejson>=3.19.3 in c:\\users\\theah\\appdata\\local\\programs\\python\\python313\\lib\\site-packages (from choreographer>=1.0.10->kaleido) (3.20.2)\n",
      "Requirement already satisfied: pytest>=7.0.0 in c:\\users\\theah\\appdata\\local\\programs\\python\\python313\\lib\\site-packages (from pytest-timeout>=2.4.0->kaleido) (8.4.2)\n",
      "Requirement already satisfied: colorama>=0.4 in c:\\users\\theah\\appdata\\roaming\\python\\python313\\site-packages (from pytest>=7.0.0->pytest-timeout>=2.4.0->kaleido) (0.4.6)\n",
      "Requirement already satisfied: iniconfig>=1 in c:\\users\\theah\\appdata\\local\\programs\\python\\python313\\lib\\site-packages (from pytest>=7.0.0->pytest-timeout>=2.4.0->kaleido) (2.1.0)\n",
      "Requirement already satisfied: pluggy<2,>=1.5 in c:\\users\\theah\\appdata\\local\\programs\\python\\python313\\lib\\site-packages (from pytest>=7.0.0->pytest-timeout>=2.4.0->kaleido) (1.6.0)\n",
      "Requirement already satisfied: pygments>=2.7.2 in c:\\users\\theah\\appdata\\roaming\\python\\python313\\site-packages (from pytest>=7.0.0->pytest-timeout>=2.4.0->kaleido) (2.19.1)\n",
      "Requirement already satisfied: six>=1.5 in c:\\users\\theah\\appdata\\roaming\\python\\python313\\site-packages (from python-dateutil>=2.8.2->pandas) (1.17.0)\n",
      "Note: you may need to restart the kernel to use updated packages.\n"
     ]
    }
   ],
   "source": [
    "%pip install plotly kaleido pandas numpy\n"
   ]
  },
  {
   "cell_type": "code",
   "execution_count": 9,
   "id": "a25ff8fb",
   "metadata": {},
   "outputs": [],
   "source": [
    "import os\n",
    "import pandas as pd\n",
    "import numpy as np\n",
    "import plotly.express as px\n"
   ]
  },
  {
   "cell_type": "code",
   "execution_count": 10,
   "id": "a5450291",
   "metadata": {},
   "outputs": [
    {
     "name": "stdout",
     "output_type": "stream",
     "text": [
      "Original shape: (1009, 14)\n"
     ]
    },
    {
     "data": {
      "text/html": [
       "<div>\n",
       "<style scoped>\n",
       "    .dataframe tbody tr th:only-of-type {\n",
       "        vertical-align: middle;\n",
       "    }\n",
       "\n",
       "    .dataframe tbody tr th {\n",
       "        vertical-align: top;\n",
       "    }\n",
       "\n",
       "    .dataframe thead th {\n",
       "        text-align: right;\n",
       "    }\n",
       "</style>\n",
       "<table border=\"1\" class=\"dataframe\">\n",
       "  <thead>\n",
       "    <tr style=\"text-align: right;\">\n",
       "      <th></th>\n",
       "      <th>ID</th>\n",
       "      <th>No_Pation</th>\n",
       "      <th>Gender</th>\n",
       "      <th>AGE</th>\n",
       "      <th>Urea</th>\n",
       "      <th>Cr</th>\n",
       "      <th>HbA1c</th>\n",
       "      <th>Chol</th>\n",
       "      <th>TG</th>\n",
       "      <th>HDL</th>\n",
       "      <th>LDL</th>\n",
       "      <th>VLDL</th>\n",
       "      <th>BMI</th>\n",
       "      <th>CLASS</th>\n",
       "    </tr>\n",
       "  </thead>\n",
       "  <tbody>\n",
       "    <tr>\n",
       "      <th>0</th>\n",
       "      <td>502</td>\n",
       "      <td>17975</td>\n",
       "      <td>F</td>\n",
       "      <td>50.0</td>\n",
       "      <td>4.7</td>\n",
       "      <td>46.0</td>\n",
       "      <td>4.9</td>\n",
       "      <td>4.2</td>\n",
       "      <td>0.9</td>\n",
       "      <td>2.4</td>\n",
       "      <td>1.4</td>\n",
       "      <td>0.5</td>\n",
       "      <td>24.0</td>\n",
       "      <td>N</td>\n",
       "    </tr>\n",
       "    <tr>\n",
       "      <th>1</th>\n",
       "      <td>735</td>\n",
       "      <td>34221</td>\n",
       "      <td>M</td>\n",
       "      <td>26.0</td>\n",
       "      <td>4.5</td>\n",
       "      <td>62.0</td>\n",
       "      <td>4.9</td>\n",
       "      <td>3.7</td>\n",
       "      <td>1.4</td>\n",
       "      <td>1.1</td>\n",
       "      <td>2.1</td>\n",
       "      <td>0.6</td>\n",
       "      <td>23.0</td>\n",
       "      <td>N</td>\n",
       "    </tr>\n",
       "    <tr>\n",
       "      <th>2</th>\n",
       "      <td>420</td>\n",
       "      <td>47975</td>\n",
       "      <td>F</td>\n",
       "      <td>50.0</td>\n",
       "      <td>4.7</td>\n",
       "      <td>46.0</td>\n",
       "      <td>4.9</td>\n",
       "      <td>4.2</td>\n",
       "      <td>0.9</td>\n",
       "      <td>2.4</td>\n",
       "      <td>1.4</td>\n",
       "      <td>0.5</td>\n",
       "      <td>24.0</td>\n",
       "      <td>N</td>\n",
       "    </tr>\n",
       "    <tr>\n",
       "      <th>3</th>\n",
       "      <td>680</td>\n",
       "      <td>87656</td>\n",
       "      <td>F</td>\n",
       "      <td>50.0</td>\n",
       "      <td>4.7</td>\n",
       "      <td>46.0</td>\n",
       "      <td>4.9</td>\n",
       "      <td>4.2</td>\n",
       "      <td>0.9</td>\n",
       "      <td>2.4</td>\n",
       "      <td>1.4</td>\n",
       "      <td>0.5</td>\n",
       "      <td>24.0</td>\n",
       "      <td>N</td>\n",
       "    </tr>\n",
       "    <tr>\n",
       "      <th>4</th>\n",
       "      <td>504</td>\n",
       "      <td>34223</td>\n",
       "      <td>M</td>\n",
       "      <td>33.0</td>\n",
       "      <td>7.1</td>\n",
       "      <td>46.0</td>\n",
       "      <td>4.9</td>\n",
       "      <td>4.9</td>\n",
       "      <td>1.0</td>\n",
       "      <td>0.8</td>\n",
       "      <td>2.0</td>\n",
       "      <td>0.4</td>\n",
       "      <td>21.0</td>\n",
       "      <td>N</td>\n",
       "    </tr>\n",
       "  </tbody>\n",
       "</table>\n",
       "</div>"
      ],
      "text/plain": [
       "    ID  No_Pation Gender   AGE  Urea    Cr  HbA1c  Chol   TG  HDL  LDL  VLDL  \\\n",
       "0  502      17975      F  50.0   4.7  46.0    4.9   4.2  0.9  2.4  1.4   0.5   \n",
       "1  735      34221      M  26.0   4.5  62.0    4.9   3.7  1.4  1.1  2.1   0.6   \n",
       "2  420      47975      F  50.0   4.7  46.0    4.9   4.2  0.9  2.4  1.4   0.5   \n",
       "3  680      87656      F  50.0   4.7  46.0    4.9   4.2  0.9  2.4  1.4   0.5   \n",
       "4  504      34223      M  33.0   7.1  46.0    4.9   4.9  1.0  0.8  2.0   0.4   \n",
       "\n",
       "    BMI CLASS  \n",
       "0  24.0     N  \n",
       "1  23.0     N  \n",
       "2  24.0     N  \n",
       "3  24.0     N  \n",
       "4  21.0     N  "
      ]
     },
     "execution_count": 10,
     "metadata": {},
     "output_type": "execute_result"
    }
   ],
   "source": [
    "df = pd.read_csv('../data/diabetes_unclean.csv')\n",
    "print(\"Original shape:\", df.shape)\n",
    "df.head()\n"
   ]
  },
  {
   "cell_type": "code",
   "execution_count": 11,
   "id": "fded3d70",
   "metadata": {},
   "outputs": [
    {
     "name": "stdout",
     "output_type": "stream",
     "text": [
      "<class 'pandas.core.frame.DataFrame'>\n",
      "RangeIndex: 1009 entries, 0 to 1008\n",
      "Data columns (total 9 columns):\n",
      " #   Column  Non-Null Count  Dtype  \n",
      "---  ------  --------------  -----  \n",
      " 0   AGE     1009 non-null   float64\n",
      " 1   HbA1c   1009 non-null   float64\n",
      " 2   Chol    1009 non-null   float64\n",
      " 3   TG      1009 non-null   float64\n",
      " 4   HDL     1009 non-null   float64\n",
      " 5   LDL     1009 non-null   float64\n",
      " 6   VLDL    1009 non-null   float64\n",
      " 7   BMI     1009 non-null   float64\n",
      " 8   CLASS   1009 non-null   int64  \n",
      "dtypes: float64(8), int64(1)\n",
      "memory usage: 71.1 KB\n",
      "None\n",
      "Missing per column:\n",
      " AGE      0\n",
      "HbA1c    0\n",
      "Chol     0\n",
      "TG       0\n",
      "HDL      0\n",
      "LDL      0\n",
      "VLDL     0\n",
      "BMI      0\n",
      "CLASS    0\n",
      "dtype: int64\n"
     ]
    }
   ],
   "source": [
    "# Drop unnecessary columns\n",
    "df.drop(labels=['ID', 'No_Pation', 'Gender', 'Urea', 'Cr'], axis=1, inplace=True, errors='ignore')\n",
    "\n",
    "# Replace 0s with NaN and fill with median\n",
    "meas = ['HbA1c', 'Chol', 'TG', 'HDL', 'LDL', 'VLDL', 'BMI']\n",
    "for var in meas:\n",
    "    if var in df.columns:\n",
    "        df[var] = df[var].replace(0, np.nan)\n",
    "        df[var] = df[var].fillna(df[var].median())\n",
    "\n",
    "# Handle missing AGE\n",
    "if 'AGE' in df.columns:\n",
    "    df['AGE'] = df['AGE'].fillna(df['AGE'].median())\n",
    "\n",
    "# Normalize CLASS column\n",
    "if 'CLASS' in df.columns:\n",
    "    df['CLASS'] = df['CLASS'].astype(str).str.strip().str.upper()\n",
    "    df['CLASS'] = df['CLASS'].apply(lambda x: 1 if x in ['Y', 'YES', 'DIABETIC'] else 0)\n",
    "\n",
    "print(df.info())\n",
    "print(\"Missing per column:\\n\", df.isnull().sum())\n"
   ]
  },
  {
   "cell_type": "code",
   "execution_count": 12,
   "id": "0363aa6d",
   "metadata": {},
   "outputs": [
    {
     "name": "stdout",
     "output_type": "stream",
     "text": [
      "✅ Cleaned dataset saved to: data/cleaned/cleaned_diabetes.csv\n"
     ]
    }
   ],
   "source": [
    "os.makedirs('data/cleaned', exist_ok=True)\n",
    "df.to_csv('data/cleaned/cleaned_diabetes.csv', index=False)\n",
    "print(\"✅ Cleaned dataset saved to: data/cleaned/cleaned_diabetes.csv\")\n"
   ]
  },
  {
   "cell_type": "code",
   "execution_count": 13,
   "id": "626b1fc5",
   "metadata": {},
   "outputs": [
    {
     "name": "stdout",
     "output_type": "stream",
     "text": [
      "✅ All plots saved to ../outputs/images/\n"
     ]
    }
   ],
   "source": [
    "os.makedirs(\"../outputs/images\", exist_ok=True)\n",
    "\n",
    "# 1. Class Distribution\n",
    "fig1 = px.histogram(\n",
    "    df,\n",
    "    x=\"CLASS\",\n",
    "    color=\"CLASS\",\n",
    "    barmode=\"group\",\n",
    "    labels={\"CLASS\": \"Diabetes (1=Yes, 0=No)\"},\n",
    "    title=\"Class Distribution\"\n",
    ")\n",
    "fig1.write_image(\"../outputs/images/class_distribution.png\")\n",
    "\n",
    "# 2. BMI vs HbA1c\n",
    "fig2 = px.scatter(\n",
    "    df,\n",
    "    x=\"BMI\",\n",
    "    y=\"HbA1c\",\n",
    "    color=df[\"CLASS\"].astype(str),\n",
    "    labels={\"color\": \"Class\"},\n",
    "    opacity=0.7,\n",
    "    title=\"BMI vs HbA1c Scatter Plot\"\n",
    ")\n",
    "fig2.write_image(\"../outputs/images/bmi_vs_hba1c.png\")\n",
    "\n",
    "# 3. Average Cholesterol by Age\n",
    "chol_age = df.groupby(\"AGE\")[\"Chol\"].mean().reset_index()\n",
    "fig3 = px.line(chol_age, x=\"AGE\", y=\"Chol\", markers=True, title=\"Average Cholesterol by Age\")\n",
    "fig3.write_image(\"../outputs/images/avg_chol_by_age.png\")\n",
    "\n",
    "print(\"✅ All plots saved to ../outputs/images/\")\n"
   ]
  },
  {
   "cell_type": "code",
   "execution_count": 6,
   "id": "2409b23b",
   "metadata": {},
   "outputs": [
    {
     "name": "stdout",
     "output_type": "stream",
     "text": [
      "    AGE  HbA1c  Chol   TG  HDL  LDL  VLDL   BMI  CLASS\n",
      "0  50.0    4.9   4.2  0.9  2.4  1.4   0.5  24.0      0\n",
      "1  26.0    4.9   3.7  1.4  1.1  2.1   0.6  23.0      0\n",
      "2  50.0    4.9   4.2  0.9  2.4  1.4   0.5  24.0      0\n",
      "3  50.0    4.9   4.2  0.9  2.4  1.4   0.5  24.0      0\n",
      "4  33.0    4.9   4.9  1.0  0.8  2.0   0.4  21.0      0\n",
      "<class 'pandas.core.frame.DataFrame'>\n",
      "RangeIndex: 1009 entries, 0 to 1008\n",
      "Data columns (total 9 columns):\n",
      " #   Column  Non-Null Count  Dtype  \n",
      "---  ------  --------------  -----  \n",
      " 0   AGE     1009 non-null   float64\n",
      " 1   HbA1c   1009 non-null   float64\n",
      " 2   Chol    1009 non-null   float64\n",
      " 3   TG      1009 non-null   float64\n",
      " 4   HDL     1009 non-null   float64\n",
      " 5   LDL     1009 non-null   float64\n",
      " 6   VLDL    1009 non-null   float64\n",
      " 7   BMI     1009 non-null   float64\n",
      " 8   CLASS   1009 non-null   int64  \n",
      "dtypes: float64(8), int64(1)\n",
      "memory usage: 71.1 KB\n",
      "None\n",
      "Missing per column:\n",
      " AGE      0\n",
      "HbA1c    0\n",
      "Chol     0\n",
      "TG       0\n",
      "HDL      0\n",
      "LDL      0\n",
      "VLDL     0\n",
      "BMI      0\n",
      "CLASS    0\n",
      "dtype: int64\n"
     ]
    }
   ],
   "source": [
    "print(df.head())\n",
    "print(df.info())\n",
    "print(\"Missing per column:\\n\", df.isnull().sum())\n"
   ]
  }
 ],
 "metadata": {
  "kernelspec": {
   "display_name": "Python 3",
   "language": "python",
   "name": "python3"
  },
  "language_info": {
   "codemirror_mode": {
    "name": "ipython",
    "version": 3
   },
   "file_extension": ".py",
   "mimetype": "text/x-python",
   "name": "python",
   "nbconvert_exporter": "python",
   "pygments_lexer": "ipython3",
   "version": "3.13.5"
  }
 },
 "nbformat": 4,
 "nbformat_minor": 5
}
