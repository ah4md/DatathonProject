{
 "cells": [
  {
   "cell_type": "code",
   "execution_count": 1,
   "id": "99c44502",
   "metadata": {},
   "outputs": [],
   "source": [
    "import pandas as pd\n",
    "import numpy as np\n"
   ]
  },
  {
   "cell_type": "code",
   "execution_count": 2,
   "id": "a5450291",
   "metadata": {},
   "outputs": [
    {
     "data": {
      "text/plain": [
       "(1009, 14)"
      ]
     },
     "execution_count": 2,
     "metadata": {},
     "output_type": "execute_result"
    }
   ],
   "source": [
    "df = pd.read_csv('../data/diabetes_unclean.csv')\n",
    "df.shape\n",
    "\n"
   ]
  },
  {
   "cell_type": "code",
   "execution_count": 3,
   "id": "fded3d70",
   "metadata": {},
   "outputs": [],
   "source": [
    "df.drop(labels=['ID', 'No_Pation', 'Gender', 'Urea', 'Cr'], axis=1, inplace=True, errors='ignore')\n"
   ]
  },
  {
   "cell_type": "code",
   "execution_count": 4,
   "id": "0363aa6d",
   "metadata": {},
   "outputs": [],
   "source": [
    "meas = ['HbA1c', 'Chol', 'TG', 'HDL', 'LDL', 'VLDL', 'BMI']\n",
    "for var in meas:\n",
    "    if var in df.columns:\n",
    "        df[var] = df[var].replace(0, np.nan)\n",
    "        df[var] = df[var].fillna(df[var].median())\n",
    "\n",
    "if 'AGE' in df.columns:\n",
    "    df['AGE'] = df['AGE'].fillna(df['AGE'].median())\n"
   ]
  },
  {
   "cell_type": "code",
   "execution_count": 5,
   "id": "626b1fc5",
   "metadata": {},
   "outputs": [],
   "source": [
    "if 'CLASS' in df.columns:\n",
    "    df['CLASS'] = df['CLASS'].astype(str).str.strip().str.upper()\n",
    "    df['CLASS'] = df['CLASS'].apply(lambda x: 1 if x in ['Y','YES','DIABETIC'] else 0)\n"
   ]
  },
  {
   "cell_type": "code",
   "execution_count": 6,
   "id": "2409b23b",
   "metadata": {},
   "outputs": [
    {
     "name": "stdout",
     "output_type": "stream",
     "text": [
      "    AGE  HbA1c  Chol   TG  HDL  LDL  VLDL   BMI  CLASS\n",
      "0  50.0    4.9   4.2  0.9  2.4  1.4   0.5  24.0      0\n",
      "1  26.0    4.9   3.7  1.4  1.1  2.1   0.6  23.0      0\n",
      "2  50.0    4.9   4.2  0.9  2.4  1.4   0.5  24.0      0\n",
      "3  50.0    4.9   4.2  0.9  2.4  1.4   0.5  24.0      0\n",
      "4  33.0    4.9   4.9  1.0  0.8  2.0   0.4  21.0      0\n",
      "<class 'pandas.core.frame.DataFrame'>\n",
      "RangeIndex: 1009 entries, 0 to 1008\n",
      "Data columns (total 9 columns):\n",
      " #   Column  Non-Null Count  Dtype  \n",
      "---  ------  --------------  -----  \n",
      " 0   AGE     1009 non-null   float64\n",
      " 1   HbA1c   1009 non-null   float64\n",
      " 2   Chol    1009 non-null   float64\n",
      " 3   TG      1009 non-null   float64\n",
      " 4   HDL     1009 non-null   float64\n",
      " 5   LDL     1009 non-null   float64\n",
      " 6   VLDL    1009 non-null   float64\n",
      " 7   BMI     1009 non-null   float64\n",
      " 8   CLASS   1009 non-null   int64  \n",
      "dtypes: float64(8), int64(1)\n",
      "memory usage: 71.1 KB\n",
      "None\n",
      "Missing per column:\n",
      " AGE      0\n",
      "HbA1c    0\n",
      "Chol     0\n",
      "TG       0\n",
      "HDL      0\n",
      "LDL      0\n",
      "VLDL     0\n",
      "BMI      0\n",
      "CLASS    0\n",
      "dtype: int64\n"
     ]
    }
   ],
   "source": [
    "print(df.head())\n",
    "print(df.info())\n",
    "print(\"Missing per column:\\n\", df.isnull().sum())\n"
   ]
  },
  {
   "cell_type": "code",
   "execution_count": 8,
   "id": "89b65424",
   "metadata": {},
   "outputs": [],
   "source": [
    "os.makedirs('data/cleaned', exist_ok=True)\n",
    "df.to_csv('data/cleaned/cleaned_diabetes.csv', index=False)\n"
   ]
  }
 ],
 "metadata": {
  "kernelspec": {
   "display_name": "Python 3",
   "language": "python",
   "name": "python3"
  },
  "language_info": {
   "codemirror_mode": {
    "name": "ipython",
    "version": 3
   },
   "file_extension": ".py",
   "mimetype": "text/x-python",
   "name": "python",
   "nbconvert_exporter": "python",
   "pygments_lexer": "ipython3",
   "version": "3.13.5"
  }
 },
 "nbformat": 4,
 "nbformat_minor": 5
}
